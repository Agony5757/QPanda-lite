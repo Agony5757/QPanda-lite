{
 "cells": [
  {
   "cell_type": "code",
   "execution_count": null,
   "id": "28e13337",
   "metadata": {},
   "outputs": [],
   "source": [
    "import qpandalite\n",
    "state = qpandalite.init_n_qubit(31)\n",
    "len(state)"
   ]
  },
  {
   "cell_type": "code",
   "execution_count": null,
   "id": "8c650573",
   "metadata": {},
   "outputs": [],
   "source": [
    "qpandalite.QCircuit"
   ]
  },
  {
   "cell_type": "code",
   "execution_count": null,
   "id": "d29b8187",
   "metadata": {},
   "outputs": [],
   "source": []
  }
 ],
 "metadata": {
  "kernelspec": {
   "display_name": "Python 3 (ipykernel)",
   "language": "python",
   "name": "python3"
  },
  "language_info": {
   "codemirror_mode": {
    "name": "ipython",
    "version": 3
   },
   "file_extension": ".py",
   "mimetype": "text/x-python",
   "name": "python",
   "nbconvert_exporter": "python",
   "pygments_lexer": "ipython3",
   "version": "3.10.9"
  }
 },
 "nbformat": 4,
 "nbformat_minor": 5
}
